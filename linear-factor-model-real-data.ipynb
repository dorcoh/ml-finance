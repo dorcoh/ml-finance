{
 "cells": [
  {
   "cell_type": "code",
   "execution_count": 1,
   "metadata": {},
   "outputs": [],
   "source": [
    "%load_ext autoreload\n",
    "\n",
    "%autoreload 2"
   ]
  },
  {
   "cell_type": "code",
   "execution_count": 2,
   "metadata": {},
   "outputs": [],
   "source": [
    "import numpy as np\n",
    "import pandas as pd"
   ]
  },
  {
   "cell_type": "code",
   "execution_count": 3,
   "metadata": {},
   "outputs": [],
   "source": [
    "from app.algorithms import compute_urm, compute_utm, compute_em, compute_stm\n"
   ]
  },
  {
   "cell_type": "code",
   "execution_count": 4,
   "metadata": {},
   "outputs": [],
   "source": [
    "import tqdm\n",
    "import random\n",
    "import matplotlib.pyplot as plt"
   ]
  },
  {
   "cell_type": "code",
   "execution_count": 5,
   "metadata": {},
   "outputs": [],
   "source": [
    "# CONSTANTS\n",
    "LIMIT_STOCKS = 70  # number of stocks (out of 500)\n",
    "WINDOW_SIZE = 50  # for computing volatility\n",
    "LIMIT_NUM_OF_RECORDS = None  # limit the number of days, set to None in order to disable\n",
    "FLIP_X = False  # whether to reverse the order of X\n",
    "TRIAL = 10  # number of evaluations for each config (page 10 on paper, denoted by j)\n",
    "TEST_SIZE = 10  # test size to evaluate each time\n",
    "TEST_START_POINT = 630 # where do we start to evaluate"
   ]
  },
  {
   "cell_type": "markdown",
   "metadata": {},
   "source": [
    "### data"
   ]
  },
  {
   "cell_type": "code",
   "execution_count": 6,
   "metadata": {},
   "outputs": [],
   "source": [
    "df = pd.read_csv('all_data.csv')"
   ]
  },
  {
   "cell_type": "code",
   "execution_count": 7,
   "metadata": {},
   "outputs": [
    {
     "data": {
      "text/html": [
       "<div>\n",
       "<style scoped>\n",
       "    .dataframe tbody tr th:only-of-type {\n",
       "        vertical-align: middle;\n",
       "    }\n",
       "\n",
       "    .dataframe tbody tr th {\n",
       "        vertical-align: top;\n",
       "    }\n",
       "\n",
       "    .dataframe thead th {\n",
       "        text-align: right;\n",
       "    }\n",
       "</style>\n",
       "<table border=\"1\" class=\"dataframe\">\n",
       "  <thead>\n",
       "    <tr style=\"text-align: right;\">\n",
       "      <th></th>\n",
       "      <th>A</th>\n",
       "      <th>AAL</th>\n",
       "      <th>AAP</th>\n",
       "      <th>AAPL</th>\n",
       "      <th>ABBV</th>\n",
       "      <th>ABC</th>\n",
       "      <th>ABMD</th>\n",
       "      <th>ABT</th>\n",
       "      <th>ACN</th>\n",
       "      <th>ADBE</th>\n",
       "      <th>...</th>\n",
       "      <th>XEL</th>\n",
       "      <th>XLNX</th>\n",
       "      <th>XOM</th>\n",
       "      <th>XRAY</th>\n",
       "      <th>XYL</th>\n",
       "      <th>YUM</th>\n",
       "      <th>ZBH</th>\n",
       "      <th>ZBRA</th>\n",
       "      <th>ZION</th>\n",
       "      <th>ZTS</th>\n",
       "    </tr>\n",
       "  </thead>\n",
       "  <tbody>\n",
       "    <tr>\n",
       "      <th>0</th>\n",
       "      <td>NaN</td>\n",
       "      <td>NaN</td>\n",
       "      <td>NaN</td>\n",
       "      <td>NaN</td>\n",
       "      <td>NaN</td>\n",
       "      <td>NaN</td>\n",
       "      <td>NaN</td>\n",
       "      <td>NaN</td>\n",
       "      <td>NaN</td>\n",
       "      <td>NaN</td>\n",
       "      <td>...</td>\n",
       "      <td>NaN</td>\n",
       "      <td>NaN</td>\n",
       "      <td>NaN</td>\n",
       "      <td>NaN</td>\n",
       "      <td>NaN</td>\n",
       "      <td>NaN</td>\n",
       "      <td>NaN</td>\n",
       "      <td>NaN</td>\n",
       "      <td>NaN</td>\n",
       "      <td>NaN</td>\n",
       "    </tr>\n",
       "    <tr>\n",
       "      <th>1</th>\n",
       "      <td>65.777748</td>\n",
       "      <td>51.647556</td>\n",
       "      <td>104.796822</td>\n",
       "      <td>41.310070</td>\n",
       "      <td>82.956924</td>\n",
       "      <td>88.406036</td>\n",
       "      <td>192.490005</td>\n",
       "      <td>55.480598</td>\n",
       "      <td>145.921112</td>\n",
       "      <td>177.699997</td>\n",
       "      <td>...</td>\n",
       "      <td>43.540058</td>\n",
       "      <td>64.657593</td>\n",
       "      <td>69.928825</td>\n",
       "      <td>65.382240</td>\n",
       "      <td>65.220093</td>\n",
       "      <td>76.699928</td>\n",
       "      <td>120.948624</td>\n",
       "      <td>103.709999</td>\n",
       "      <td>46.021923</td>\n",
       "      <td>70.275375</td>\n",
       "    </tr>\n",
       "    <tr>\n",
       "      <th>2</th>\n",
       "      <td>67.451401</td>\n",
       "      <td>51.014027</td>\n",
       "      <td>105.745117</td>\n",
       "      <td>41.302879</td>\n",
       "      <td>84.255081</td>\n",
       "      <td>88.735046</td>\n",
       "      <td>195.820007</td>\n",
       "      <td>55.603271</td>\n",
       "      <td>146.594574</td>\n",
       "      <td>181.039993</td>\n",
       "      <td>...</td>\n",
       "      <td>43.248634</td>\n",
       "      <td>65.953041</td>\n",
       "      <td>71.302231</td>\n",
       "      <td>65.158272</td>\n",
       "      <td>66.015335</td>\n",
       "      <td>76.634125</td>\n",
       "      <td>121.787064</td>\n",
       "      <td>105.769997</td>\n",
       "      <td>45.967468</td>\n",
       "      <td>70.598511</td>\n",
       "    </tr>\n",
       "    <tr>\n",
       "      <th>3</th>\n",
       "      <td>66.945419</td>\n",
       "      <td>51.335667</td>\n",
       "      <td>109.646957</td>\n",
       "      <td>41.494736</td>\n",
       "      <td>83.774597</td>\n",
       "      <td>88.537621</td>\n",
       "      <td>199.250000</td>\n",
       "      <td>55.508900</td>\n",
       "      <td>148.330338</td>\n",
       "      <td>183.220001</td>\n",
       "      <td>...</td>\n",
       "      <td>42.911682</td>\n",
       "      <td>67.143723</td>\n",
       "      <td>71.400948</td>\n",
       "      <td>65.148529</td>\n",
       "      <td>66.456100</td>\n",
       "      <td>77.414291</td>\n",
       "      <td>121.611588</td>\n",
       "      <td>107.860001</td>\n",
       "      <td>46.158089</td>\n",
       "      <td>71.019547</td>\n",
       "    </tr>\n",
       "    <tr>\n",
       "      <th>4</th>\n",
       "      <td>68.015762</td>\n",
       "      <td>51.316177</td>\n",
       "      <td>110.812576</td>\n",
       "      <td>41.967163</td>\n",
       "      <td>85.232941</td>\n",
       "      <td>89.609322</td>\n",
       "      <td>202.320007</td>\n",
       "      <td>55.669323</td>\n",
       "      <td>149.553955</td>\n",
       "      <td>185.339996</td>\n",
       "      <td>...</td>\n",
       "      <td>42.611153</td>\n",
       "      <td>70.629974</td>\n",
       "      <td>71.343353</td>\n",
       "      <td>66.063927</td>\n",
       "      <td>66.331535</td>\n",
       "      <td>77.865448</td>\n",
       "      <td>122.820503</td>\n",
       "      <td>109.540001</td>\n",
       "      <td>46.176235</td>\n",
       "      <td>71.832275</td>\n",
       "    </tr>\n",
       "  </tbody>\n",
       "</table>\n",
       "<p>5 rows × 505 columns</p>\n",
       "</div>"
      ],
      "text/plain": [
       "           A        AAL         AAP       AAPL       ABBV        ABC  \\\n",
       "0        NaN        NaN         NaN        NaN        NaN        NaN   \n",
       "1  65.777748  51.647556  104.796822  41.310070  82.956924  88.406036   \n",
       "2  67.451401  51.014027  105.745117  41.302879  84.255081  88.735046   \n",
       "3  66.945419  51.335667  109.646957  41.494736  83.774597  88.537621   \n",
       "4  68.015762  51.316177  110.812576  41.967163  85.232941  89.609322   \n",
       "\n",
       "         ABMD        ABT         ACN        ADBE  ...        XEL       XLNX  \\\n",
       "0         NaN        NaN         NaN         NaN  ...        NaN        NaN   \n",
       "1  192.490005  55.480598  145.921112  177.699997  ...  43.540058  64.657593   \n",
       "2  195.820007  55.603271  146.594574  181.039993  ...  43.248634  65.953041   \n",
       "3  199.250000  55.508900  148.330338  183.220001  ...  42.911682  67.143723   \n",
       "4  202.320007  55.669323  149.553955  185.339996  ...  42.611153  70.629974   \n",
       "\n",
       "         XOM       XRAY        XYL        YUM         ZBH        ZBRA  \\\n",
       "0        NaN        NaN        NaN        NaN         NaN         NaN   \n",
       "1  69.928825  65.382240  65.220093  76.699928  120.948624  103.709999   \n",
       "2  71.302231  65.158272  66.015335  76.634125  121.787064  105.769997   \n",
       "3  71.400948  65.148529  66.456100  77.414291  121.611588  107.860001   \n",
       "4  71.343353  66.063927  66.331535  77.865448  122.820503  109.540001   \n",
       "\n",
       "        ZION        ZTS  \n",
       "0        NaN        NaN  \n",
       "1  46.021923  70.275375  \n",
       "2  45.967468  70.598511  \n",
       "3  46.158089  71.019547  \n",
       "4  46.176235  71.832275  \n",
       "\n",
       "[5 rows x 505 columns]"
      ]
     },
     "execution_count": 7,
     "metadata": {},
     "output_type": "execute_result"
    }
   ],
   "source": [
    "df.head()"
   ]
  },
  {
   "cell_type": "code",
   "execution_count": 8,
   "metadata": {},
   "outputs": [
    {
     "data": {
      "text/plain": [
       "(784, 505)"
      ]
     },
     "execution_count": 8,
     "metadata": {},
     "output_type": "execute_result"
    }
   ],
   "source": [
    "df.shape"
   ]
  },
  {
   "cell_type": "code",
   "execution_count": 9,
   "metadata": {},
   "outputs": [],
   "source": [
    "def pre_process(df, limit_stocks=70):\n",
    "    # first row has nans\n",
    "    _df = df.iloc[1:]\n",
    "    # drop any stocks which has nan values\n",
    "    _df = _df.dropna(axis=1)\n",
    "    \n",
    "    if limit_stocks is not None:\n",
    "        _df = _df.iloc[:,:limit_stocks].reset_index(drop=True)\n",
    "    return _df"
   ]
  },
  {
   "cell_type": "code",
   "execution_count": 10,
   "metadata": {},
   "outputs": [],
   "source": [
    "df = pre_process(df, limit_stocks=LIMIT_STOCKS)"
   ]
  },
  {
   "cell_type": "code",
   "execution_count": 11,
   "metadata": {},
   "outputs": [
    {
     "data": {
      "text/plain": [
       "(783, 70)"
      ]
     },
     "execution_count": 11,
     "metadata": {},
     "output_type": "execute_result"
    }
   ],
   "source": [
    "df.shape"
   ]
  },
  {
   "cell_type": "code",
   "execution_count": 12,
   "metadata": {},
   "outputs": [],
   "source": [
    "def log_returns(df):\n",
    "    _df = pd.DataFrame()\n",
    "    cols = [x for x in df.columns]\n",
    "    for col in cols:\n",
    "        _df[col] = np.log(df[col] / df[col].shift(1))\n",
    "        \n",
    "    return _df.iloc[1:]"
   ]
  },
  {
   "cell_type": "code",
   "execution_count": 13,
   "metadata": {},
   "outputs": [],
   "source": [
    "ldf = log_returns(df)"
   ]
  },
  {
   "cell_type": "code",
   "execution_count": 14,
   "metadata": {},
   "outputs": [
    {
     "data": {
      "text/plain": [
       "array([[ 0.02512574, -0.01234225,  0.0090082 , ...,  0.00081521,\n",
       "        -0.00088144,  0.01101501],\n",
       "       [-0.0075297 ,  0.00628514,  0.03623408, ...,  0.01287606,\n",
       "         0.00790516, -0.00943402],\n",
       "       [ 0.01586183, -0.00037972,  0.01057455, ...,  0.00226464,\n",
       "         0.01217412,  0.02534741],\n",
       "       ...,\n",
       "       [-0.00510508, -0.01253148, -0.01337622, ...,  0.00489637,\n",
       "        -0.00454802,  0.01647302],\n",
       "       [ 0.00136388,  0.01811983,  0.00617153, ...,  0.00810769,\n",
       "         0.00487681,  0.00140744],\n",
       "       [ 0.00932682, -0.0238106 , -0.00095197, ...,  0.00971982,\n",
       "         0.00714022,  0.01118897]])"
      ]
     },
     "execution_count": 14,
     "metadata": {},
     "output_type": "execute_result"
    }
   ],
   "source": [
    "ldf.values"
   ]
  },
  {
   "cell_type": "code",
   "execution_count": 15,
   "metadata": {},
   "outputs": [],
   "source": [
    "def clip_log_returns(df):\n",
    "    ub = np.quantile(df.values, .95)\n",
    "    lb = np.quantile(df.values, .05)\n",
    "    _df = df.apply(lambda x: np.clip(x, lb, ub))\n",
    "    return _df"
   ]
  },
  {
   "cell_type": "code",
   "execution_count": 16,
   "metadata": {},
   "outputs": [],
   "source": [
    "cdf = clip_log_returns(ldf)"
   ]
  },
  {
   "cell_type": "code",
   "execution_count": 17,
   "metadata": {},
   "outputs": [],
   "source": [
    "def normalize_with_vol(df, window_size=50):\n",
    "    _sqr = lambda x: np.sqrt(np.sum([_x**2 for _x in x])/window_size)\n",
    "    vol = df.rolling(window_size).apply(lambda x: _sqr(x))\n",
    "    \n",
    "    _df = df / vol\n",
    "    return _df.iloc[window_size:].reset_index(drop=True)"
   ]
  },
  {
   "cell_type": "code",
   "execution_count": 18,
   "metadata": {},
   "outputs": [
    {
     "name": "stderr",
     "output_type": "stream",
     "text": [
      "/home/deebee/.local/lib/python3.5/site-packages/ipykernel_launcher.py:3: FutureWarning: Currently, 'apply' passes the values as ndarrays to the applied function. In the future, this will change to passing it as Series objects. You need to specify 'raw=True' to keep the current behaviour, and you can pass 'raw=False' to silence this warning\n",
      "  This is separate from the ipykernel package so we can avoid doing imports until\n"
     ]
    }
   ],
   "source": [
    "ndf = normalize_with_vol(cdf, window_size=WINDOW_SIZE)"
   ]
  },
  {
   "cell_type": "code",
   "execution_count": 19,
   "metadata": {},
   "outputs": [
    {
     "data": {
      "text/plain": [
       "(732, 70)"
      ]
     },
     "execution_count": 19,
     "metadata": {},
     "output_type": "execute_result"
    }
   ],
   "source": [
    "ndf.shape"
   ]
  },
  {
   "cell_type": "code",
   "execution_count": 20,
   "metadata": {},
   "outputs": [
    {
     "data": {
      "text/html": [
       "<div>\n",
       "<style scoped>\n",
       "    .dataframe tbody tr th:only-of-type {\n",
       "        vertical-align: middle;\n",
       "    }\n",
       "\n",
       "    .dataframe tbody tr th {\n",
       "        vertical-align: top;\n",
       "    }\n",
       "\n",
       "    .dataframe thead th {\n",
       "        text-align: right;\n",
       "    }\n",
       "</style>\n",
       "<table border=\"1\" class=\"dataframe\">\n",
       "  <thead>\n",
       "    <tr style=\"text-align: right;\">\n",
       "      <th></th>\n",
       "      <th>A</th>\n",
       "      <th>AAL</th>\n",
       "      <th>AAP</th>\n",
       "      <th>AAPL</th>\n",
       "      <th>ABBV</th>\n",
       "      <th>ABC</th>\n",
       "      <th>ABMD</th>\n",
       "      <th>ABT</th>\n",
       "      <th>ACN</th>\n",
       "      <th>ADBE</th>\n",
       "      <th>...</th>\n",
       "      <th>BIIB</th>\n",
       "      <th>BIO</th>\n",
       "      <th>BK</th>\n",
       "      <th>BKNG</th>\n",
       "      <th>BKR</th>\n",
       "      <th>BLK</th>\n",
       "      <th>BLL</th>\n",
       "      <th>BMY</th>\n",
       "      <th>BR</th>\n",
       "      <th>BSX</th>\n",
       "    </tr>\n",
       "  </thead>\n",
       "  <tbody>\n",
       "    <tr>\n",
       "      <th>0</th>\n",
       "      <td>-0.766402</td>\n",
       "      <td>-0.987360</td>\n",
       "      <td>-0.867723</td>\n",
       "      <td>-0.599383</td>\n",
       "      <td>-0.387587</td>\n",
       "      <td>-1.185224</td>\n",
       "      <td>0.525817</td>\n",
       "      <td>-0.425954</td>\n",
       "      <td>-0.753034</td>\n",
       "      <td>-0.402830</td>\n",
       "      <td>...</td>\n",
       "      <td>0.549960</td>\n",
       "      <td>-0.390211</td>\n",
       "      <td>-1.240757</td>\n",
       "      <td>0.641750</td>\n",
       "      <td>0.397808</td>\n",
       "      <td>-0.551471</td>\n",
       "      <td>-1.205057</td>\n",
       "      <td>-0.050966</td>\n",
       "      <td>-0.165772</td>\n",
       "      <td>-0.995857</td>\n",
       "    </tr>\n",
       "    <tr>\n",
       "      <th>1</th>\n",
       "      <td>0.263691</td>\n",
       "      <td>-0.115557</td>\n",
       "      <td>0.018543</td>\n",
       "      <td>0.082656</td>\n",
       "      <td>-1.835075</td>\n",
       "      <td>-0.723960</td>\n",
       "      <td>-0.252939</td>\n",
       "      <td>-0.339580</td>\n",
       "      <td>0.939386</td>\n",
       "      <td>0.132317</td>\n",
       "      <td>...</td>\n",
       "      <td>0.215910</td>\n",
       "      <td>-0.209214</td>\n",
       "      <td>-0.023094</td>\n",
       "      <td>-0.038392</td>\n",
       "      <td>-1.149564</td>\n",
       "      <td>-0.112696</td>\n",
       "      <td>0.053630</td>\n",
       "      <td>-0.390936</td>\n",
       "      <td>-0.590016</td>\n",
       "      <td>-0.408287</td>\n",
       "    </tr>\n",
       "    <tr>\n",
       "      <th>2</th>\n",
       "      <td>-0.287457</td>\n",
       "      <td>0.241225</td>\n",
       "      <td>-0.218861</td>\n",
       "      <td>-0.249678</td>\n",
       "      <td>-0.592518</td>\n",
       "      <td>-0.450861</td>\n",
       "      <td>-0.303950</td>\n",
       "      <td>0.736509</td>\n",
       "      <td>-0.989982</td>\n",
       "      <td>1.955685</td>\n",
       "      <td>...</td>\n",
       "      <td>0.202364</td>\n",
       "      <td>-1.412161</td>\n",
       "      <td>0.172944</td>\n",
       "      <td>-0.556142</td>\n",
       "      <td>1.485629</td>\n",
       "      <td>0.623517</td>\n",
       "      <td>-0.662845</td>\n",
       "      <td>0.359780</td>\n",
       "      <td>0.138896</td>\n",
       "      <td>0.222892</td>\n",
       "    </tr>\n",
       "    <tr>\n",
       "      <th>3</th>\n",
       "      <td>-0.576603</td>\n",
       "      <td>-0.819339</td>\n",
       "      <td>-0.355844</td>\n",
       "      <td>-1.076303</td>\n",
       "      <td>-0.827414</td>\n",
       "      <td>-1.885161</td>\n",
       "      <td>-1.040152</td>\n",
       "      <td>-1.137088</td>\n",
       "      <td>-0.137160</td>\n",
       "      <td>-0.970126</td>\n",
       "      <td>...</td>\n",
       "      <td>-2.067799</td>\n",
       "      <td>-0.187412</td>\n",
       "      <td>-0.760588</td>\n",
       "      <td>-0.853396</td>\n",
       "      <td>-0.543835</td>\n",
       "      <td>-1.063575</td>\n",
       "      <td>-0.665996</td>\n",
       "      <td>-0.543942</td>\n",
       "      <td>-0.313498</td>\n",
       "      <td>-0.767628</td>\n",
       "    </tr>\n",
       "    <tr>\n",
       "      <th>4</th>\n",
       "      <td>0.540374</td>\n",
       "      <td>0.731906</td>\n",
       "      <td>-0.763378</td>\n",
       "      <td>-0.023921</td>\n",
       "      <td>0.307042</td>\n",
       "      <td>-1.823767</td>\n",
       "      <td>1.220374</td>\n",
       "      <td>0.483013</td>\n",
       "      <td>1.127411</td>\n",
       "      <td>1.928932</td>\n",
       "      <td>...</td>\n",
       "      <td>0.301657</td>\n",
       "      <td>0.096863</td>\n",
       "      <td>0.104593</td>\n",
       "      <td>-0.272526</td>\n",
       "      <td>-1.129765</td>\n",
       "      <td>0.401829</td>\n",
       "      <td>-0.615361</td>\n",
       "      <td>0.369458</td>\n",
       "      <td>1.663765</td>\n",
       "      <td>0.130444</td>\n",
       "    </tr>\n",
       "  </tbody>\n",
       "</table>\n",
       "<p>5 rows × 70 columns</p>\n",
       "</div>"
      ],
      "text/plain": [
       "          A       AAL       AAP      AAPL      ABBV       ABC      ABMD  \\\n",
       "0 -0.766402 -0.987360 -0.867723 -0.599383 -0.387587 -1.185224  0.525817   \n",
       "1  0.263691 -0.115557  0.018543  0.082656 -1.835075 -0.723960 -0.252939   \n",
       "2 -0.287457  0.241225 -0.218861 -0.249678 -0.592518 -0.450861 -0.303950   \n",
       "3 -0.576603 -0.819339 -0.355844 -1.076303 -0.827414 -1.885161 -1.040152   \n",
       "4  0.540374  0.731906 -0.763378 -0.023921  0.307042 -1.823767  1.220374   \n",
       "\n",
       "        ABT       ACN      ADBE  ...      BIIB       BIO        BK      BKNG  \\\n",
       "0 -0.425954 -0.753034 -0.402830  ...  0.549960 -0.390211 -1.240757  0.641750   \n",
       "1 -0.339580  0.939386  0.132317  ...  0.215910 -0.209214 -0.023094 -0.038392   \n",
       "2  0.736509 -0.989982  1.955685  ...  0.202364 -1.412161  0.172944 -0.556142   \n",
       "3 -1.137088 -0.137160 -0.970126  ... -2.067799 -0.187412 -0.760588 -0.853396   \n",
       "4  0.483013  1.127411  1.928932  ...  0.301657  0.096863  0.104593 -0.272526   \n",
       "\n",
       "        BKR       BLK       BLL       BMY        BR       BSX  \n",
       "0  0.397808 -0.551471 -1.205057 -0.050966 -0.165772 -0.995857  \n",
       "1 -1.149564 -0.112696  0.053630 -0.390936 -0.590016 -0.408287  \n",
       "2  1.485629  0.623517 -0.662845  0.359780  0.138896  0.222892  \n",
       "3 -0.543835 -1.063575 -0.665996 -0.543942 -0.313498 -0.767628  \n",
       "4 -1.129765  0.401829 -0.615361  0.369458  1.663765  0.130444  \n",
       "\n",
       "[5 rows x 70 columns]"
      ]
     },
     "execution_count": 20,
     "metadata": {},
     "output_type": "execute_result"
    }
   ],
   "source": [
    "ndf.head()"
   ]
  },
  {
   "cell_type": "code",
   "execution_count": 21,
   "metadata": {},
   "outputs": [],
   "source": [
    "def gen_dataset(df, limit=None, flip=True):\n",
    "    X = df.values\n",
    "    if limit is not None:\n",
    "        X = X[:limit,:]\n",
    "    _X = X.T\n",
    "    if flip:\n",
    "        _X = np.flip(_X, axis=1)\n",
    "    \n",
    "    return _X"
   ]
  },
  {
   "cell_type": "code",
   "execution_count": 22,
   "metadata": {},
   "outputs": [],
   "source": [
    "X = gen_dataset(ndf, limit=LIMIT_NUM_OF_RECORDS, flip=FLIP_X)"
   ]
  },
  {
   "cell_type": "code",
   "execution_count": 23,
   "metadata": {},
   "outputs": [
    {
     "data": {
      "text/plain": [
       "(70, 732)"
      ]
     },
     "execution_count": 23,
     "metadata": {},
     "output_type": "execute_result"
    }
   ],
   "source": [
    "X.shape"
   ]
  },
  {
   "cell_type": "code",
   "execution_count": 24,
   "metadata": {},
   "outputs": [],
   "source": [
    "def split_train_test(X, N, t, test_size=10):\n",
    "    #print(\"Split, X shape: {}, N: {}, t: {}, test_size: {}\".format(X.shape, N, t, test_size))\n",
    "    test = X[:,t:t+test_size]\n",
    "    train = X[:,t-N:t]\n",
    "    \n",
    "    return train, test"
   ]
  },
  {
   "cell_type": "code",
   "execution_count": 25,
   "metadata": {},
   "outputs": [],
   "source": [
    "def log_likelihood(Sigma, Sigma_SAM, N):\n",
    "    if (np.isnan(Sigma)).any():\n",
    "        return np.nan\n",
    "    M = Sigma.shape[0]\n",
    "    a = M * np.log(2*np.pi)\n",
    "    b = np.log(np.linalg.det(Sigma))\n",
    "    c = np.trace(np.linalg.lstsq(Sigma, Sigma_SAM, rcond=None)[0])\n",
    "    ret_value = -(N/2) * (a+b+c)\n",
    "    return ret_value"
   ]
  },
  {
   "cell_type": "code",
   "execution_count": 26,
   "metadata": {},
   "outputs": [],
   "source": [
    "def gen_args(lambda_factor=1):\n",
    "    # GENERATE TRAIN ARGS - RANDOM K AND LAMBDA\n",
    "    \n",
    "    M = ndf.shape[1] # data dimension\n",
    "    scan_N = (np.array([0.25, 0.5, 1, 2]) * M).astype(np.int) # the sizes of datasets\n",
    "    default_K = np.random.randint(low=1, high=M*2, size=4) # the corresponding K to use\n",
    "    default_lambda = lambda_factor * np.random.rand(4) * M # the corresponding lambda to use\n",
    "    default_gamma = np.array([8, 6, 4, 2]) * M  # NOT USED\n",
    "    \n",
    "    print(\"K {}\".format(default_K))\n",
    "    print(\"LAMBDA: {}\".format(default_lambda))\n",
    "    \n",
    "    return M, scan_N, default_K, default_lambda, default_gamma"
   ]
  },
  {
   "cell_type": "code",
   "execution_count": 27,
   "metadata": {},
   "outputs": [],
   "source": [
    "#M, scan_N, default_K, default_lambda, default_gamma = gen_args()"
   ]
  },
  {
   "cell_type": "code",
   "execution_count": 28,
   "metadata": {},
   "outputs": [],
   "source": [
    "# arguments required for training\n",
    "M = ndf.shape[1] # data dimension\n",
    "scan_N = (np.array([0.25, 0.5, 1, 2]) * M).astype(np.int) # the sizes of datasets\n",
    "default_K = np.array([5, 9, 15, 20]) # the corresponding K to use\n",
    "default_lambda = np.array([2.6, 1.4, 1, .9]) * M # the corresponding lambda to use\n",
    "default_gamma = np.array([8, 6, 4, 2]) * M  # NOT USED"
   ]
  },
  {
   "cell_type": "markdown",
   "metadata": {},
   "source": [
    "## UTM / URM"
   ]
  },
  {
   "cell_type": "code",
   "execution_count": 29,
   "metadata": {
    "scrolled": true
   },
   "outputs": [
    {
     "name": "stderr",
     "output_type": "stream",
     "text": [
      " 40%|████      | 4/10 [00:00<00:00, 36.55it/s]"
     ]
    },
    {
     "name": "stdout",
     "output_type": "stream",
     "text": [
      "[ 5  9 15 20]\n",
      "[182.  98.  70.  63.]\n"
     ]
    },
    {
     "name": "stderr",
     "output_type": "stream",
     "text": [
      "100%|██████████| 10/10 [00:00<00:00, 41.30it/s]\n",
      "100%|██████████| 10/10 [00:00<00:00, 71.36it/s]\n",
      "100%|██████████| 10/10 [00:00<00:00, 36.79it/s]\n",
      "100%|██████████| 10/10 [00:00<00:00, 34.89it/s]\n"
     ]
    }
   ],
   "source": [
    "## log likelihood record keeper\n",
    "UTM_llh = np.zeros((TRIAL, len(scan_N)))\n",
    "URM_llh = np.zeros((TRIAL, len(scan_N)))\n",
    "\n",
    "# begin of simulation\n",
    "print(default_K)\n",
    "print(default_lambda)\n",
    "for index_N, (N, train_K, train_lambda, train_gamma) in enumerate(zip(scan_N, default_K, default_lambda, default_gamma)):\n",
    "    for trial in tqdm.tqdm(range(TRIAL)):\n",
    "\n",
    "        # compute sample covaraince matrix\n",
    "        train, test = split_train_test(X, N=N,t=TEST_START_POINT+TEST_SIZE*trial,test_size=TEST_SIZE)\n",
    "\n",
    "\n",
    "        Sigma_SAM = np.zeros((M,M))\n",
    "        for n in range(N):\n",
    "            Sigma_SAM += np.outer(train[:,n], train[:,n])\n",
    "        Sigma_SAM /= N\n",
    "\n",
    "        # test cov matrix\n",
    "        Sigma_SAM_test = np.zeros((M,M))\n",
    "        _N_TEST = test.shape[1]\n",
    "        for n in range(_N_TEST):\n",
    "            Sigma_SAM_test += np.outer(test[:,n], test[:,n])\n",
    "        Sigma_SAM_test /= _N_TEST\n",
    "\n",
    "        # URM\n",
    "        Sigma_URM = compute_urm(Sigma_SAM, train_K)\n",
    "        URM_llh[trial, index_N] = log_likelihood(Sigma_URM, Sigma_SAM_test, N)\n",
    "\n",
    "        # UTM\n",
    "        Sigma_UTM = compute_utm(Sigma_SAM, train_lambda, N)\n",
    "        UTM_llh[trial, index_N] = log_likelihood(Sigma_UTM, Sigma_SAM_test, N)"
   ]
  },
  {
   "cell_type": "code",
   "execution_count": 30,
   "metadata": {
    "pycharm": {
     "name": "#%%\n"
    }
   },
   "outputs": [
    {
     "data": {
      "text/plain": [
       "<matplotlib.legend.Legend at 0x7f7fcc1fb080>"
      ]
     },
     "execution_count": 30,
     "metadata": {},
     "output_type": "execute_result"
    },
    {
     "data": {
      "image/png": "[encoded data removed]",
      "text/plain": [
       "<Figure size 720x288 with 1 Axes>"
      ]
     },
     "metadata": {
      "needs_background": "light"
     },
     "output_type": "display_data"
    }
   ],
   "source": [
    "# plot the results\n",
    "log_scan_N = scan_N\n",
    "plt.figure(figsize = (10,4))\n",
    "plt.subplot(121)\n",
    "plt.errorbar(log_scan_N, URM_llh.mean(axis=0), URM_llh.std(axis=0, ddof=1)/np.sqrt(TRIAL), c='r', ms=4, label='URM')\n",
    "plt.errorbar(log_scan_N, UTM_llh.mean(axis=0), UTM_llh.std(axis=0, ddof=1)/np.sqrt(TRIAL), c='b', ms=4, label='UTM')\n",
    "    \n",
    "plt.xlabel('N');\n",
    "plt.ylabel('log likelihood');\n",
    "plt.legend()"
   ]
  },
  {
   "cell_type": "code",
   "execution_count": 31,
   "metadata": {},
   "outputs": [
    {
     "data": {
      "text/plain": [
       "array([ -1648.78744543,  -3184.98779006,  -6162.58475152, -11946.94652957])"
      ]
     },
     "execution_count": 31,
     "metadata": {},
     "output_type": "execute_result"
    }
   ],
   "source": [
    "URM_llh.mean(axis=0)"
   ]
  },
  {
   "cell_type": "code",
   "execution_count": 32,
   "metadata": {},
   "outputs": [
    {
     "data": {
      "text/plain": [
       "array([ -1526.02702434,  -2893.27449881,  -5556.84328749, -10987.56114523])"
      ]
     },
     "execution_count": 32,
     "metadata": {},
     "output_type": "execute_result"
    }
   ],
   "source": [
    "UTM_llh.mean(axis=0)"
   ]
  },
  {
   "cell_type": "markdown",
   "metadata": {},
   "source": [
    "## STM / EM"
   ]
  },
  {
   "cell_type": "code",
   "execution_count": 33,
   "metadata": {
    "pycharm": {
     "name": "#%%\n"
    }
   },
   "outputs": [
    {
     "name": "stderr",
     "output_type": "stream",
     "text": [
      "  0%|          | 0/10 [00:00<?, ?it/s]/home/deebee/personal-work/courses/spring21/ml-finance/presentation/app/algorithms.py:92: FutureWarning: `rcond` parameter will change to the default of machine precision times ``max(M, N)`` where M and N are the input matrix dimensions.\n",
      "To use the future default and silence this warning we advise to pass `rcond=None`, to keep using the old, explicitly pass `rcond=-1`.\n",
      "  dt, _, _, _ = np.linalg.lstsq(-hessian, gradient)\n",
      "100%|██████████| 10/10 [00:05<00:00,  1.89it/s]\n",
      "100%|██████████| 10/10 [00:07<00:00,  1.10it/s]\n",
      "100%|██████████| 10/10 [00:12<00:00,  1.21s/it]\n",
      "100%|██████████| 10/10 [00:14<00:00,  1.38s/it]\n"
     ]
    }
   ],
   "source": [
    "## log likelihood record keeper\n",
    "STM_llh = np.zeros((TRIAL, len(scan_N)))\n",
    "EM_llh = np.zeros((TRIAL, len(scan_N)))\n",
    "\n",
    "for index_N, (N, train_K, train_lambda, train_gamma) in enumerate(zip(scan_N, default_K, default_lambda, default_gamma)):\n",
    "    for trial in tqdm.tqdm(range(TRIAL)):\n",
    "        # compute sample covaraince matrix\n",
    "        train, test = split_train_test(X, N=N,t=TEST_START_POINT+TEST_SIZE*trial,test_size=TEST_SIZE)\n",
    "\n",
    "        # compute sample covaraince matrix\n",
    "        Sigma_SAM = np.zeros((M,M))\n",
    "        for n in range(N):\n",
    "            Sigma_SAM += np.outer(train[:,n], train[:,n])\n",
    "        Sigma_SAM /= N\n",
    "\n",
    "        # test cov matrix\n",
    "        Sigma_SAM_test = np.zeros((M,M))\n",
    "        _N_TEST = test.shape[1]\n",
    "        for n in range(_N_TEST):\n",
    "            Sigma_SAM_test += np.outer(test[:,n], test[:,n])\n",
    "        Sigma_SAM_test /= _N_TEST\n",
    "\n",
    "        # STM\n",
    "        Sigma_STM = compute_stm(Sigma_SAM, train_lambda, N)\n",
    "        STM_llh[trial, index_N] = log_likelihood(Sigma_STM, Sigma_SAM_test, N)\n",
    "\n",
    "        # EM\n",
    "        Sigma_EM = compute_em(Sigma_SAM, train_K)\n",
    "        EM_llh[trial, index_N] = log_likelihood(Sigma_EM, Sigma_SAM_test, N)"
   ]
  },
  {
   "cell_type": "code",
   "execution_count": 34,
   "metadata": {},
   "outputs": [
    {
     "data": {
      "text/plain": [
       "<matplotlib.legend.Legend at 0x7f7fcc185be0>"
      ]
     },
     "execution_count": 34,
     "metadata": {},
     "output_type": "execute_result"
    },
    {
     "data": {
      "image/png": "[encoded data removed]",
      "text/plain": [
       "<Figure size 720x288 with 1 Axes>"
      ]
     },
     "metadata": {
      "needs_background": "light"
     },
     "output_type": "display_data"
    }
   ],
   "source": [
    "# plot the results\n",
    "log_scan_N = scan_N\n",
    "plt.figure(figsize = (10,4))\n",
    "plt.subplot(121)\n",
    "plt.errorbar(log_scan_N, STM_llh.mean(axis=0), STM_llh.std(axis=0, ddof=1)/np.sqrt(TRIAL), c='r', ms=4, label='STM')\n",
    "plt.errorbar(log_scan_N, EM_llh.mean(axis=0), EM_llh.std(axis=0, ddof=1)/np.sqrt(TRIAL), c='b', ms=4, label='EM')\n",
    "    \n",
    "plt.xlabel('N');\n",
    "plt.ylabel('log likelihood');\n",
    "plt.legend()"
   ]
  },
  {
   "cell_type": "code",
   "execution_count": null,
   "metadata": {},
   "outputs": [],
   "source": []
  }
 ],
 "metadata": {
  "kernelspec": {
   "display_name": "Python 3",
   "language": "python",
   "name": "python3"
  },
  "language_info": {
   "codemirror_mode": {
    "name": "ipython",
    "version": 3
   },
   "file_extension": ".py",
   "mimetype": "text/x-python",
   "name": "python",
   "nbconvert_exporter": "python",
   "pygments_lexer": "ipython3",
   "version": "3.5.2"
  }
 },
 "nbformat": 4,
 "nbformat_minor": 2
}
