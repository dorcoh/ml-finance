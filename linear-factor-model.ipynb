{
 "cells": [
  {
   "cell_type": "code",
   "execution_count": 1,
   "metadata": {},
   "outputs": [],
   "source": [
    "%load_ext autoreload\n",
    "\n",
    "%autoreload 2"
   ]
  },
  {
   "cell_type": "code",
   "execution_count": 2,
   "metadata": {},
   "outputs": [],
   "source": [
    "import numpy as np"
   ]
  },
  {
   "cell_type": "code",
   "execution_count": 3,
   "metadata": {},
   "outputs": [],
   "source": [
    "from app.algorithms import compute_urm, compute_utm, compute_em, compute_stm\n",
    "from app.data import generate_synthetic_data"
   ]
  },
  {
   "cell_type": "code",
   "execution_count": 4,
   "metadata": {},
   "outputs": [],
   "source": [
    "import tqdm\n",
    "import random\n",
    "import matplotlib.pyplot as plt"
   ]
  },
  {
   "cell_type": "markdown",
   "metadata": {},
   "source": [
    "### Synthetic data"
   ]
  },
  {
   "cell_type": "code",
   "execution_count": 5,
   "metadata": {},
   "outputs": [],
   "source": [
    "# arguments for generating the data\n",
    "\n",
    "M = 70 # data dimension\n",
    "UNIFORM = True # True = model has uniform residual variances; False = models has arbitrary residual variances\n",
    "OBJECTIVE = False # False = independent objective; True = aligned objective\n",
    "scan_N = (np.array([0.25, 0.5, 1, 2]) * M).astype(np.int) # the sizes of datasets\n",
    "default_K = np.array([5, 9, 15, 20]) # the corresponding K to use\n",
    "default_lambda = np.array([2.6, 1.4, 1, .9]) * M # the corresponding lambda to use\n",
    "default_gamma = np.array([8, 6, 4, 2]) * M\n",
    "TRIAL = 100 # number of simulation trials\n",
    "mu_f = -1\n",
    "sigma_f = 2 # magnitude factor loadings\n",
    "sigma_p = 4\n",
    "sigma_r = 0.6 # magnitude of variation among residual variances"
   ]
  },
  {
   "cell_type": "markdown",
   "metadata": {},
   "source": [
    "## UTM / URM"
   ]
  },
  {
   "cell_type": "code",
   "execution_count": 6,
   "metadata": {},
   "outputs": [
    {
     "name": "stderr",
     "output_type": "stream",
     "text": [
      "  2%|▏         | 2/100 [00:00<00:07, 12.95it/s]"
     ]
    },
    {
     "name": "stdout",
     "output_type": "stream",
     "text": [
      "Seed: 6603\n"
     ]
    },
    {
     "name": "stderr",
     "output_type": "stream",
     "text": [
      "100%|██████████| 100/100 [00:08<00:00, 11.98it/s]\n"
     ]
    }
   ],
   "source": [
    "## log likelihood record keeper\n",
    "UTM_llh = np.zeros((TRIAL, len(scan_N)))\n",
    "URM_llh = np.zeros((TRIAL, len(scan_N)))\n",
    "wrong_llh = np.zeros((TRIAL, len(scan_N)))\n",
    "\n",
    "UTM_obj = np.zeros((TRIAL, len(scan_N)))\n",
    "URM_obj = np.zeros((TRIAL, len(scan_N)))\n",
    "Oracle_obj = np.zeros((TRIAL, len(scan_N)))\n",
    "\n",
    "## set random seed for data generation; can be safely ignored\n",
    "rand_seed = random.randint(0, 10000);\n",
    "print(\"Seed: %d\" % rand_seed)\n",
    "np.random.seed(rand_seed)\n",
    "\n",
    "# begin of simulation\n",
    "for trial in tqdm.tqdm(range(TRIAL)):\n",
    "    X, Sigma_s, c = generate_synthetic_data(M, scan_N[-1], UNIFORM, OBJECTIVE, mu_f, sigma_f, sigma_p, sigma_r) # X=data set; Sigma_s = true covariance matrix\n",
    "            \n",
    "    for index_N, (N, train_K, train_lambda, train_gamma) in enumerate(zip(scan_N, default_K, default_lambda, default_gamma)):\n",
    "        # compute sample covaraince matrix\n",
    "        Sigma_SAM = np.zeros((M,M))\n",
    "        for n in range(N):\n",
    "            Sigma_SAM += np.outer(X[:,n], X[:,n])\n",
    "        Sigma_SAM /= N\n",
    "                     \n",
    "        if UNIFORM:\n",
    "            # URM\n",
    "            Sigma_URM = compute_urm(Sigma_SAM, train_K)\n",
    "            # TODO: turn into function\n",
    "            U_URM = 0.5 * np.linalg.lstsq(Sigma_URM, c, rcond=None)[0]\n",
    "            URM_llh[trial, index_N] = -0.5 * (M * np.log(2*np.pi) + np.log(np.linalg.det(Sigma_URM)) + np.trace(np.linalg.lstsq(Sigma_URM, Sigma_s, rcond=None)[0]))\n",
    "            URM_obj[trial, index_N] = c.dot(U_URM) - U_URM.dot(Sigma_s).dot(U_URM)\n",
    "            \n",
    "            # UTM\n",
    "            Sigma_UTM = compute_utm(Sigma_SAM, train_lambda, N)\n",
    "            U_UTM = 0.5 * np.linalg.lstsq(Sigma_UTM, c, rcond=None)[0]\n",
    "            UTM_llh[trial, index_N] = -0.5 * (M * np.log(2*np.pi) + np.log(np.linalg.det(Sigma_UTM)) + np.trace(np.linalg.lstsq(Sigma_UTM, Sigma_s, rcond=None)[0]))\n",
    "            UTM_obj[trial, index_N] = c.dot(U_UTM) - U_UTM.dot(Sigma_s).dot(U_UTM)\n",
    "            \n",
    "            #U_oracle = 0.5 * np.linalg.lstsq(Sigma_s, c, rcond=None)[0]\n",
    "            #Oracle_obj[trial, index_N] = c.dot(U_oracle) - U_oracle.dot(Sigma_s).dot(U_oracle)"
   ]
  },
  {
   "cell_type": "code",
   "execution_count": 7,
   "metadata": {
    "pycharm": {
     "name": "#%%\n"
    }
   },
   "outputs": [
    {
     "data": {
      "image/png": "[encoded data removed]",
      "text/plain": [
       "<Figure size 720x288 with 2 Axes>"
      ]
     },
     "metadata": {
      "needs_background": "light"
     },
     "output_type": "display_data"
    }
   ],
   "source": [
    "# plot the results\n",
    "log_scan_N = np.log(scan_N/M)\n",
    "plt.figure(figsize = (10,4))\n",
    "plt.subplot(121)\n",
    "if UNIFORM:\n",
    "    plt.errorbar(log_scan_N, URM_llh.mean(axis=0), URM_llh.std(axis=0, ddof=1)/np.sqrt(TRIAL), c='r', ms=4, label='URM')\n",
    "    plt.errorbar(log_scan_N, UTM_llh.mean(axis=0), UTM_llh.std(axis=0, ddof=1)/np.sqrt(TRIAL), c='b', ms=4, label='UTM')\n",
    "    \n",
    "plt.xlabel('log(N/M)');\n",
    "plt.ylabel('log likelihood');\n",
    "plt.legend()\n",
    "\n",
    "\n",
    "plt.subplot(122)\n",
    "if UNIFORM:\n",
    "    plt.errorbar(log_scan_N, URM_obj.mean(axis=0), URM_obj.std(axis=0, ddof=1)/np.sqrt(TRIAL), c='r', ms=4, label='URM')\n",
    "    plt.errorbar(log_scan_N, UTM_obj.mean(axis=0), UTM_obj.std(axis=0, ddof=1)/np.sqrt(TRIAL), c='b', ms=4, label='UTM')\n",
    "    #plt.errorbar(log_scan_N, Oracle_obj.mean(axis=0), Oracle_obj.std(axis=0, ddof=1)/np.sqrt(TRIAL), c='k', ms=4, label='Oracle')\n",
    "    \n",
    "plt.xlabel('log(N/M)');\n",
    "plt.ylabel('Score');\n",
    "plt.legend()\n",
    "plt.show()"
   ]
  },
  {
   "cell_type": "markdown",
   "metadata": {},
   "source": [
    "## STM / EM"
   ]
  },
  {
   "cell_type": "code",
   "execution_count": 8,
   "metadata": {
    "pycharm": {
     "name": "#%%\n"
    }
   },
   "outputs": [
    {
     "name": "stderr",
     "output_type": "stream",
     "text": [
      "\r",
      "  0%|          | 0/100 [00:00<?, ?it/s]"
     ]
    },
    {
     "name": "stdout",
     "output_type": "stream",
     "text": [
      "Seed: 9450\n"
     ]
    },
    {
     "name": "stderr",
     "output_type": "stream",
     "text": [
      "/home/deebee/personal-work/courses/spring21/ml-finance/presentation/app/algorithms.py:92: FutureWarning: `rcond` parameter will change to the default of machine precision times ``max(M, N)`` where M and N are the input matrix dimensions.\n",
      "To use the future default and silence this warning we advise to pass `rcond=None`, to keep using the old, explicitly pass `rcond=-1`.\n",
      "  dt, _, _, _ = np.linalg.lstsq(-hessian, gradient)\n",
      "100%|██████████| 100/100 [35:56<00:00, 19.24s/it] \n"
     ]
    }
   ],
   "source": [
    "UNIFORM = False\n",
    "## log likelihood record keeper\n",
    "STM_llh = np.zeros((TRIAL, len(scan_N)))\n",
    "EM_llh = np.zeros((TRIAL, len(scan_N)))\n",
    "wrong_llh = np.zeros((TRIAL, len(scan_N)))\n",
    "\n",
    "STM_obj = np.zeros((TRIAL, len(scan_N)))\n",
    "EM_obj = np.zeros((TRIAL, len(scan_N)))\n",
    "Oracle_obj = np.zeros((TRIAL, len(scan_N)))\n",
    "\n",
    "\n",
    "## set random seed for data generation; can be safely ignored\n",
    "rand_seed = random.randint(0, 10000);\n",
    "print(\"Seed: %d\" % rand_seed)\n",
    "np.random.seed(rand_seed)\n",
    "\n",
    "# begin of simulation\n",
    "for trial in tqdm.tqdm(range(TRIAL)):\n",
    "    X, Sigma_s, c = generate_synthetic_data(M, scan_N[-1], UNIFORM, OBJECTIVE, mu_f, sigma_f, sigma_p, sigma_r) # X=data set; Sigma_s = true covariance matrix\n",
    "            \n",
    "    for index_N, (N, train_K, train_lambda, train_gamma) in enumerate(zip(scan_N, default_K, default_lambda, default_gamma)):\n",
    "        # compute sample covaraince matrix\n",
    "        Sigma_SAM = np.zeros((M,M))\n",
    "        for n in range(N):\n",
    "            Sigma_SAM += np.outer(X[:,n], X[:,n])\n",
    "        Sigma_SAM /= N\n",
    "                     \n",
    "        if not UNIFORM:\n",
    "            # STM\n",
    "            Sigma_STM = compute_stm(Sigma_SAM, train_lambda, N)\n",
    "            U_STM = 0.5 * np.linalg.lstsq(Sigma_STM, c, rcond=None)[0]\n",
    "            STM_llh[trial, index_N] = -0.5 * (M * np.log(2*np.pi) + np.log(np.linalg.det(Sigma_STM)) + np.trace(np.linalg.lstsq(Sigma_STM, Sigma_s, rcond=None)[0]))\n",
    "            STM_obj[trial, index_N] = c.dot(U_STM) - U_STM.dot(Sigma_s).dot(U_STM)\n",
    "            \n",
    "            # EM\n",
    "            Sigma_EM = compute_em(Sigma_SAM, train_K)\n",
    "            U_EM = 0.5 * np.linalg.lstsq(Sigma_EM, c, rcond=None)[0]\n",
    "            EM_llh[trial, index_N] = -0.5 * (M * np.log(2*np.pi) + np.log(np.linalg.det(Sigma_EM)) + np.trace(np.linalg.lstsq(Sigma_EM, Sigma_s, rcond=None)[0]))\n",
    "            EM_obj[trial, index_N] = c.dot(U_EM) - U_EM.dot(Sigma_s).dot(U_EM)\n",
    "            \n",
    "            #U_oracle = 0.5 * np.linalg.lstsq(Sigma_s, c, rcond=None)[0]\n",
    "            #Oracle_obj[trial, index_N] = c.dot(U_oracle) - U_oracle.dot(Sigma_s).dot(U_oracle)"
   ]
  },
  {
   "cell_type": "code",
   "execution_count": 9,
   "metadata": {},
   "outputs": [
    {
     "data": {
      "image/png": "[encoded data removed]",
      "text/plain": [
       "<Figure size 720x288 with 2 Axes>"
      ]
     },
     "metadata": {
      "needs_background": "light"
     },
     "output_type": "display_data"
    }
   ],
   "source": [
    "# plot the results\n",
    "log_scan_N = np.log(scan_N/M)\n",
    "plt.figure(figsize = (10,4))\n",
    "plt.subplot(121)\n",
    "if not UNIFORM:\n",
    "    plt.errorbar(log_scan_N, STM_llh.mean(axis=0), STM_llh.std(axis=0, ddof=1)/np.sqrt(TRIAL), c='r', ms=4, label='STM')\n",
    "    plt.errorbar(log_scan_N, EM_llh.mean(axis=0), EM_llh.std(axis=0, ddof=1)/np.sqrt(TRIAL), c='b', ms=4, label='EM')\n",
    "    \n",
    "plt.xlabel('log(N/M)');\n",
    "plt.ylabel('log likelihood');\n",
    "plt.legend()\n",
    "\n",
    "\n",
    "plt.subplot(122)\n",
    "if not UNIFORM:\n",
    "    plt.errorbar(log_scan_N, STM_obj.mean(axis=0), STM_obj.std(axis=0, ddof=1)/np.sqrt(TRIAL), c='r', ms=4, label='STM')\n",
    "    plt.errorbar(log_scan_N, EM_obj.mean(axis=0), EM_obj.std(axis=0, ddof=1)/np.sqrt(TRIAL), c='b', ms=4, label='EM')\n",
    "    #plt.errorbar(log_scan_N, Oracle_obj.mean(axis=0), Oracle_obj.std(axis=0, ddof=1)/np.sqrt(TRIAL), c='k', ms=4, label='Oracle')\n",
    "    \n",
    "plt.xlabel('log(N/M)');\n",
    "plt.ylabel('Score');\n",
    "plt.legend()\n",
    "plt.show()"
   ]
  },
  {
   "cell_type": "code",
   "execution_count": null,
   "metadata": {},
   "outputs": [],
   "source": []
  }
 ],
 "metadata": {
  "kernelspec": {
   "display_name": "Python 3",
   "language": "python",
   "name": "python3"
  },
  "language_info": {
   "codemirror_mode": {
    "name": "ipython",
    "version": 3
   },
   "file_extension": ".py",
   "mimetype": "text/x-python",
   "name": "python",
   "nbconvert_exporter": "python",
   "pygments_lexer": "ipython3",
   "version": "3.5.2"
  }
 },
 "nbformat": 4,
 "nbformat_minor": 2
}
